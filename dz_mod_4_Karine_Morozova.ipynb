{
 "cells": [
  {
   "cell_type": "code",
   "execution_count": 11,
   "id": "8cdee7da-32c6-4f30-87b6-c056d1e7fab2",
   "metadata": {},
   "outputs": [],
   "source": [
    "import pandas as pd\n",
    "\n",
    "X_train = pd.read_csv('./datasets/mod_04_hw_train_data.csv')\n",
    "X_test = pd.read_csv('./datasets/mod_04_hw_valid_data.csv')"
   ]
  },
  {
   "cell_type": "code",
   "execution_count": 12,
   "id": "b329fba3-637c-41ba-8aea-d90c72370ecf",
   "metadata": {},
   "outputs": [],
   "source": [
    "y_train = X_train['Salary']\n",
    "y_test = X_test['Salary']"
   ]
  },
  {
   "cell_type": "code",
   "execution_count": 13,
   "id": "624457c7-393c-4b2f-9978-cdd42e78452c",
   "metadata": {},
   "outputs": [],
   "source": [
    "X_train = X_train.drop(['Name', 'Phone_Number', 'Salary', 'Date_Of_Birth', 'Qualification'], axis=1)\n",
    "X_test = X_test.drop(['Name', 'Phone_Number', 'Salary', 'Date_Of_Birth', 'Qualification'], axis=1)"
   ]
  },
  {
   "cell_type": "code",
   "execution_count": 14,
   "id": "137c8579-9dc7-4fa7-8731-9127d319a193",
   "metadata": {},
   "outputs": [],
   "source": [
    "X_train_cat = X_train.select_dtypes(include='object')\n",
    "X_train_num = X_train.select_dtypes(exclude='object')"
   ]
  },
  {
   "cell_type": "code",
   "execution_count": 15,
   "id": "88b76173-af1f-44b8-9cea-c8a05127a953",
   "metadata": {},
   "outputs": [],
   "source": [
    "X_test_cat = X_test.select_dtypes(include='object')\n",
    "X_test_num = X_test.select_dtypes(exclude='object')"
   ]
  },
  {
   "cell_type": "code",
   "execution_count": 16,
   "id": "2631681c-0737-4fbe-800f-f574f08256a8",
   "metadata": {},
   "outputs": [],
   "source": [
    "from sklearn.impute import SimpleImputer\n",
    "\n",
    "imputer = SimpleImputer(strategy='most_frequent').set_output(transform='pandas')\n",
    "\n",
    "X_train_num = imputer.fit_transform(X_train_num)\n",
    "X_test_num = imputer.transform(X_test_num)"
   ]
  },
  {
   "cell_type": "code",
   "execution_count": 17,
   "id": "b4254431-7ca1-4db6-b8f9-7be50138522d",
   "metadata": {},
   "outputs": [],
   "source": [
    "from sklearn.preprocessing import PowerTransformer \n",
    "\n",
    "transformer = PowerTransformer().set_output(transform='pandas')\n",
    "\n",
    "X_train_num = transformer.fit_transform(X_train_num)\n",
    "X_test_num = transformer.transform(X_test_num)"
   ]
  },
  {
   "cell_type": "code",
   "execution_count": 18,
   "id": "1d245862-67b8-470d-9eb3-1606ba386325",
   "metadata": {},
   "outputs": [],
   "source": [
    "from sklearn.preprocessing import OneHotEncoder \n",
    "\n",
    "encoder = (OneHotEncoder(drop='if_binary',\n",
    "                         sparse_output=False,)\n",
    "           .set_output(transform='pandas'))\n",
    "\n",
    "X_train_cat = encoder.fit_transform(X_train_cat)\n",
    "X_test_cat = encoder.transform(X_test_cat)"
   ]
  },
  {
   "cell_type": "code",
   "execution_count": 19,
   "id": "b7966751-f5e1-4d79-b2ad-2dce4656dfc3",
   "metadata": {},
   "outputs": [],
   "source": [
    "from sklearn.neighbors import KNeighborsRegressor\n",
    "\n",
    "regressor = KNeighborsRegressor(n_neighbors=5)\n",
    "regressor.fit(pd.concat([X_train_cat, X_train_num], axis=1), y_train)\n",
    "\n",
    "y_pred = regressor.predict(pd.concat([X_test_cat, X_test_num], axis=1))"
   ]
  },
  {
   "cell_type": "code",
   "execution_count": 20,
   "id": "f29e05d8-265d-48fb-a0e9-6906b97594c2",
   "metadata": {},
   "outputs": [
    {
     "name": "stdout",
     "output_type": "stream",
     "text": [
      "Validation MAPE: 4.68%\n"
     ]
    }
   ],
   "source": [
    "from sklearn.metrics import mean_absolute_percentage_error\n",
    "\n",
    "mape = mean_absolute_percentage_error(y_test, y_pred)\n",
    "\n",
    "print(f'Validation MAPE: {mape:.2%}')"
   ]
  },
  {
   "cell_type": "markdown",
   "id": "4bc02e0b-8dd4-4c33-a871-85b72dfee330",
   "metadata": {},
   "source": [
    "### Висновок\n",
    "Результат моєї роботи відповідає очікуваному діапазону MAPE (3-5%), отриманий MAPE становить 4.68%. Я виконала усі необхідні кроки для побудови моделі, включаючи обробку даних та налаштування моделі.\n",
    "\n",
    "### Опис кроків:\n",
    "\n",
    "1.  Імпорт даних\n",
    "\n",
    "2. Витягнула цільову змінну 'Salary' з обох наборів даних.\n",
    "\n",
    "3. Видалила стовпці, які не потрібні для моделювання: 'Name', 'Phone_Number', 'Salary', 'Date_Of_Birth', 'Qualification'\n",
    "\n",
    "4. Поділ на числові та категоріальні змінні:\n",
    "Розділила числові та категоріальні ознаки в окремі DataFrame.\n",
    "\n",
    "5. Заповнення пропущених значень:\n",
    "Заповнила пропущені значення в числових ознаках значеннями моди.\n",
    "\n",
    "6. Нормалізація даних:\n",
    "Виконала нормалізацію числових ознак за допомогою PowerTransformer.\n",
    "\n",
    "7. Кодування категоріальних змінних:\n",
    "Закодувала категоріальні ознаки методом OneHotEncoder.\n",
    "\n",
    "8. Створила та навчила модель KNeighborsRegressor з 5 сусідами.\n",
    "\n",
    "9. Прогнозувала заробітну плату для тестового набору та обчислила MAPE для оцінки моделі.\n",
    "\n",
    "Validation MAPE: 4.68%\n"
   ]
  }
 ],
 "metadata": {
  "kernelspec": {
   "display_name": "Python 3 (Spyder)",
   "language": "python3",
   "name": "python3"
  },
  "language_info": {
   "codemirror_mode": {
    "name": "ipython",
    "version": 3
   },
   "file_extension": ".py",
   "mimetype": "text/x-python",
   "name": "python",
   "nbconvert_exporter": "python",
   "pygments_lexer": "ipython3",
   "version": "3.11.9"
  }
 },
 "nbformat": 4,
 "nbformat_minor": 5
}
